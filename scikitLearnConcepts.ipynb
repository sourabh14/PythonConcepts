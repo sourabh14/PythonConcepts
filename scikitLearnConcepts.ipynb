import pandas as pd
import matplotlib.pyplot as plt
from sklearn.linear_model import LinearRegression

# Load dataset
# df = pd.read_csv("homeprices.csv")
# print("DataFrame:", df)

# Create DataFrame
data = {
    'area': [2600, 3000, 3200, 3600, 4000],
    'price': [550000, 565000, 610000, 680000, 725000]
}
df = pd.DataFrame(data)

# Initialize and train the Linear Regression model
reg = LinearRegression()
reg.fit(df[['area']], df.price)

# Predict using a DataFrame with the same feature name
predicted_price = reg.predict(pd.DataFrame([[5000]], columns=['area']))
print("Predicted price for 5000 sq ft area:", predicted_price[0])

plt.figure(figsize=(10, 6))
plt.xlabel("Area")
plt.ylabel("Price")
plt.scatter(df.area, df.price, color='red')
plt.plot(df.area, reg.predict(df[['area']]))
plt.show()


# ------------- Uncomment to execute

# X = df.area  # Feature variables
# y = df.price  # Target variable
#
# # Step 2: Splitting the data into training and test sets
# # This step is crucial to test the model's performance on unseen data.
# # The training set is used to train the model, and the test set is used to evaluate it.
# X_train, X_test, y_train, y_test = train_test_split(X, y, test_size=0.2, random_state=42)
#
# # Step 3: Preprocessing the data
# # Many machine learning algorithms perform better when features are on a similar scale.
# # StandardScaler is used to standardize features by removing the mean and scaling to unit variance.
# scaler = StandardScaler()
# X_train = scaler.fit_transform(X_train)
# X_test = scaler.transform(X_test)
#
# # Step 4: Building a model
# # Scikit-learn provides a variety of models, from linear regression to complex ensemble methods.
# # Here, we use a simple Logistic Regression model for classification.
# model = LogisticRegression()
#
# # Step 5: Training the model
# # We fit the model on the training data.
# model.fit(X_train, y_train)
#
# # Step 6: Making predictions
# # After training, we can use the model to make predictions on new data (here, on the test set).
# y_pred = model.predict(X_test)
#
# # Step 7: Evaluating the model
# # Scikit-learn provides various metrics for model evaluation, depending on the type of model.
# # For classification tasks, accuracy, confusion matrix, and classification report are commonly used metrics.
# accuracy = accuracy_score(y_test, y_pred)
# conf_matrix = confusion_matrix(y_test, y_pred)
# class_report = classification_report(y_test, y_pred)
#
# print("Model Accuracy:", accuracy)
# print("\nConfusion Matrix:\n", conf_matrix)
# print("\nClassification Report:\n", class_report)
#



# Summary of Scikit-Learn Concepts:
# 1. Loading Data: Using built-in or custom datasets.
# 2. Splitting Data: Using train_test_split to divide data into training and test sets.
# 3. Preprocessing: Using StandardScaler or other transformers for data preparation.
# 4. Model Selection: Choosing a model (e.g., LogisticRegression, SVM, DecisionTree).
# 5. Training: Fitting the model on the training data.
# 6. Prediction: Using the trained model to predict labels on test or new data.
# 7. Evaluation: Using metrics like accuracy, confusion matrix, and classification report.